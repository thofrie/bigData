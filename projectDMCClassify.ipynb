{
 "cells": [
  {
   "cell_type": "code",
   "execution_count": 2,
   "metadata": {},
   "outputs": [
    {
     "name": "stdout",
     "output_type": "stream",
     "text": [
      "Collecting scikit-learn\n",
      "\u001b[?25l  Downloading https://files.pythonhosted.org/packages/73/db/7d8204ddba84ab5d1e4fd1af8f82bbe39c589488bee71e45c662f4144010/scikit_learn-0.22.1-cp37-cp37m-manylinux1_x86_64.whl (7.0MB)\n",
      "\u001b[K    100% |████████████████████████████████| 7.0MB 213kB/s ta 0:00:011    12% |████▏                           | 911kB 2.5MB/s eta 0:00:03    89% |████████████████████████████▋   | 6.3MB 2.1MB/s eta 0:00:01    94% |██████████████████████████████▏ | 6.6MB 3.2MB/s eta 0:00:01\n",
      "\u001b[?25hRequirement already satisfied, skipping upgrade: scipy>=0.17.0 in /home/lukas/.local/lib/python3.7/site-packages (from scikit-learn) (1.3.3)\n",
      "Requirement already satisfied, skipping upgrade: numpy>=1.11.0 in /home/lukas/.local/lib/python3.7/site-packages (from scikit-learn) (1.17.4)\n",
      "Collecting joblib>=0.11 (from scikit-learn)\n",
      "\u001b[?25l  Downloading https://files.pythonhosted.org/packages/28/5c/cf6a2b65a321c4a209efcdf64c2689efae2cb62661f8f6f4bb28547cf1bf/joblib-0.14.1-py2.py3-none-any.whl (294kB)\n",
      "\u001b[K    100% |████████████████████████████████| 296kB 536kB/s ta 0:00:01\n",
      "\u001b[?25hInstalling collected packages: joblib, scikit-learn\n",
      "Successfully installed joblib-0.14.1 scikit-learn-0.22.1\n",
      "Note: you may need to restart the kernel to use updated packages.\n"
     ]
    }
   ],
   "source": [
    "pip install -U scikit-learn"
   ]
  },
  {
   "cell_type": "code",
   "execution_count": 3,
   "metadata": {},
   "outputs": [],
   "source": [
    "### Imports\n",
    "#imports sklearn\n",
    "from sklearn.metrics import precision_recall_fscore_support\n",
    "from sklearn.preprocessing import StandardScaler\n",
    "from sklearn.neighbors import KNeighborsClassifier\n",
    "from sklearn.metrics import classification_report\n",
    "from sklearn.model_selection import train_test_split\n",
    "from sklearn.preprocessing import StandardScaler\n",
    "from sklearn.model_selection import StratifiedKFold\n",
    "from sklearn.model_selection import cross_val_score\n",
    "from sklearn.metrics import accuracy_score\n",
    "from sklearn.metrics import confusion_matrix\n",
    "from sklearn import metrics\n",
    "\n",
    "import os\n",
    "import pandas as pd\n",
    "import os\n",
    "import numpy as np\n",
    "import pandas as pd\n",
    "import matplotlib.pyplot as plt\n",
    "import matplotlib.mlab as mlab\n",
    "import seaborn as sns"
   ]
  },
  {
   "cell_type": "code",
   "execution_count": 4,
   "metadata": {},
   "outputs": [
    {
     "data": {
      "text/plain": [
       "'/home/lukas/Documents/Development/Big_Data/bigData'"
      ]
     },
     "execution_count": 4,
     "metadata": {},
     "output_type": "execute_result"
    }
   ],
   "source": [
    "os.getcwd()"
   ]
  },
  {
   "cell_type": "code",
   "execution_count": 17,
   "metadata": {},
   "outputs": [],
   "source": [
    "### Load Dataset in Pandas DataFrame\n",
    "os.getcwd()\n",
    "wd = '/home/lukas/Documents/Development/Big_Data/bigData'\n",
    "os.chdir(wd)\n",
    "df = pd.read_csv('training.csv',sep=\";\")\n",
    "df_test = pd.read_csv('test.csv',sep=\";\")\n",
    "\n",
    "def preprocessing(df):\n",
    "    df.date = pd.to_datetime(df.date)\n",
    "    df.datecreated = pd.to_datetime(df.datecreated)\n",
    "    df = df.drop(columns=[\"deliverydatepromised\",\"deliverydatereal\"])\n",
    "    return df\n",
    "\n",
    "def cardinalFeatures(df):\n",
    "    df = df.drop(columns=[\"customernumber\",\"date\",\"salutation\",\"title\",\"domain\",\"datecreated\",\"newsletter\",\"model\",\"paymenttype\",\"deliverytype\",\"invoicepostcode\",\"delivpostcode\",\"voucher\",\"advertisingdatacode\",\"case\",\"gift\",\"entry\",\"points\",\"shippingcosts\",\"deliverydatepromised\",\"deliverydatereal\"])\n",
    "    return df"
   ]
  },
  {
   "cell_type": "code",
   "execution_count": 18,
   "metadata": {},
   "outputs": [],
   "source": [
    "summary = pd.read_csv('summary.csv')"
   ]
  },
  {
   "cell_type": "code",
   "execution_count": 11,
   "metadata": {},
   "outputs": [],
   "source": [
    "summary_numeric = cardinalFeatures(summary)"
   ]
  },
  {
   "cell_type": "code",
   "execution_count": 20,
   "metadata": {},
   "outputs": [
    {
     "data": {
      "text/plain": [
       "0    32428.0\n",
       "1        0.0\n",
       "2        0.0\n",
       "3        0.0\n",
       "4        0.0\n",
       "Name: points, dtype: float64"
      ]
     },
     "execution_count": 20,
     "metadata": {},
     "output_type": "execute_result"
    }
   ],
   "source": [
    "summary.points.head()"
   ]
  },
  {
   "cell_type": "markdown",
   "metadata": {},
   "source": [
    "### Correlation Coefficients with target variable (of cardinal Features)"
   ]
  },
  {
   "cell_type": "code",
   "execution_count": 22,
   "metadata": {},
   "outputs": [],
   "source": [
    "cardinalFeatures = [\"numberitems\",\"weight\",\"remi\",\"cancel\",\"used\",\"w0\",\"w1\",\"w2\",\"w3\",\"w4\",\"w5\",\"w6\",\"w7\",\"w8\",\"w9\",\"w10\"]"
   ]
  },
  {
   "cell_type": "code",
   "execution_count": 21,
   "metadata": {},
   "outputs": [],
   "source": [
    "corrCoef = [0.060061882158311944, 0.043501823152529595, 0.06557929437810843, -0.014916843991081003, 0.02941799820995733, 0.01675470242368305, 0.03391654280922215, 0.016078554431523607, 0.018919994447813615, -0.007757951406056072, 0.03210685363981658, 0.004521539372569865, -0.00708223950923188, -0.0006959627615251599, 0.01927083103709882, -0.014007009134448287]"
   ]
  },
  {
   "cell_type": "code",
   "execution_count": 34,
   "metadata": {},
   "outputs": [
    {
     "name": "stdout",
     "output_type": "stream",
     "text": [
      "numberitems: 0.060061882158311944\n",
      "weight: 0.043501823152529595\n",
      "remi: 0.06557929437810843\n",
      "cancel: -0.014916843991081003\n",
      "used: 0.02941799820995733\n",
      "w0: 0.01675470242368305\n",
      "w1: 0.03391654280922215\n",
      "w2: 0.016078554431523607\n",
      "w3: 0.018919994447813615\n",
      "w4: -0.007757951406056072\n",
      "w5: 0.03210685363981658\n",
      "w6: 0.004521539372569865\n",
      "w7: -0.00708223950923188\n",
      "w8: -0.0006959627615251599\n",
      "w9: 0.01927083103709882\n",
      "w10: -0.014007009134448287\n"
     ]
    }
   ],
   "source": [
    "for i in range(len(corrCoef)):\n",
    "    print(cardinalFeatures[i] + \": \"+ str(corrCoef[i]))\n",
    "    "
   ]
  }
 ],
 "metadata": {
  "kernelspec": {
   "display_name": "Python 3",
   "language": "python",
   "name": "python3"
  },
  "language_info": {
   "codemirror_mode": {
    "name": "ipython",
    "version": 3
   },
   "file_extension": ".py",
   "mimetype": "text/x-python",
   "name": "python",
   "nbconvert_exporter": "python",
   "pygments_lexer": "ipython3",
   "version": "3.7.5"
  }
 },
 "nbformat": 4,
 "nbformat_minor": 2
}
