{
 "cells": [
  {
   "cell_type": "code",
   "execution_count": null,
   "metadata": {},
   "outputs": [],
   "source": [
    "(33,[0,1,2,4,5,6,7,8,9,10,11,13,14,15,16,17,18,19,20,21,22,23,24,25,26,28,29,30,31,32],[0.0034074649795667626,0.00413741447930873,0.174857215989406,0.01726154098338987,0.018280560101041142,0.002261726703313424,0.08072646083459825,0.0010372145781558167,0.02362677055121339,0.03755636073210255,0.0463249245397624,0.01734599372730481,0.12331213798904761,0.06190547590973885,0.1989891818023385,0.006474604848043193,0.0125853848245135,0.011429540857742782,0.031486710200181726,0.003055738160761083,0.003935933532905397,0.0010781704036437125,0.00647669744467106,0.002226334453365907,0.002085273761775174,0.0048787668115735025,0.004436802071339119,0.05430419992217015,0.0031644853312789334,0.04135091347574677])\n",
    "allFeatures = ['salutation_Vec','newsletter','model_Vec','paymenttype_Vec','voucher','case','numberitems','gift','entry','shippingcosts','weight','remi','cancel','used','w0','w1','w2','w3','w4','w5','w6','w7','w8','w9','w10','books','nobooks','itemseff']"
   ]
  },
  {
   "cell_type": "code",
   "execution_count": 151,
   "metadata": {},
   "outputs": [],
   "source": [
    "allFeatures = ['salutation_Vec','newsletter','model_Vec','paymenttype_Vec','voucher','case','numberitems','gift','entry','shippingcosts','weight','remi','cancel','used','w0','w1','w2','w3','w4','w5','w6','w7','w8','w9','w10','books','nobooks','itemseff']"
   ]
  },
  {
   "cell_type": "code",
   "execution_count": 154,
   "metadata": {},
   "outputs": [
    {
     "data": {
      "text/plain": [
       "28"
      ]
     },
     "execution_count": 154,
     "metadata": {},
     "output_type": "execute_result"
    }
   ],
   "source": [
    "len(allFeatures)"
   ]
  },
  {
   "cell_type": "code",
   "execution_count": 157,
   "metadata": {},
   "outputs": [],
   "source": [
    "importance = [0.0034074649795667626,0.00413741447930873,0.174857215989406,0.01726154098338987,0.018280560101041142,0.002261726703313424,0.08072646083459825,0.0010372145781558167,0.02362677055121339,0.03755636073210255,0.0463249245397624,0.01734599372730481,0.12331213798904761,0.06190547590973885,0.1989891818023385,0.006474604848043193,0.0125853848245135,0.011429540857742782,0.031486710200181726,0.003055738160761083,0.003935933532905397,0.0010781704036437125,0.00647669744467106,0.002226334453365907,0.002085273761775174,0.0048787668115735025,0.004436802071339119,0.05430419992217015]"
   ]
  },
  {
   "cell_type": "code",
   "execution_count": 159,
   "metadata": {},
   "outputs": [],
   "source": [
    "fi_df= pd.DataFrame(importance,columns=[\"importance\"])\n",
    "fi_df['feature'] = pd.Series(allFeatures)\n",
    "fi_df.sort_values(by=['importance'], ascending=False, inplace=True)"
   ]
  },
  {
   "cell_type": "code",
   "execution_count": 160,
   "metadata": {},
   "outputs": [
    {
     "data": {
      "text/html": [
       "<div>\n",
       "<style scoped>\n",
       "    .dataframe tbody tr th:only-of-type {\n",
       "        vertical-align: middle;\n",
       "    }\n",
       "\n",
       "    .dataframe tbody tr th {\n",
       "        vertical-align: top;\n",
       "    }\n",
       "\n",
       "    .dataframe thead th {\n",
       "        text-align: right;\n",
       "    }\n",
       "</style>\n",
       "<table border=\"1\" class=\"dataframe\">\n",
       "  <thead>\n",
       "    <tr style=\"text-align: right;\">\n",
       "      <th></th>\n",
       "      <th>importance</th>\n",
       "      <th>feature</th>\n",
       "    </tr>\n",
       "  </thead>\n",
       "  <tbody>\n",
       "    <tr>\n",
       "      <th>14</th>\n",
       "      <td>0.198989</td>\n",
       "      <td>w0</td>\n",
       "    </tr>\n",
       "    <tr>\n",
       "      <th>2</th>\n",
       "      <td>0.174857</td>\n",
       "      <td>model_Vec</td>\n",
       "    </tr>\n",
       "    <tr>\n",
       "      <th>12</th>\n",
       "      <td>0.123312</td>\n",
       "      <td>cancel</td>\n",
       "    </tr>\n",
       "    <tr>\n",
       "      <th>6</th>\n",
       "      <td>0.080726</td>\n",
       "      <td>numberitems</td>\n",
       "    </tr>\n",
       "    <tr>\n",
       "      <th>13</th>\n",
       "      <td>0.061905</td>\n",
       "      <td>used</td>\n",
       "    </tr>\n",
       "    <tr>\n",
       "      <th>27</th>\n",
       "      <td>0.054304</td>\n",
       "      <td>itemseff</td>\n",
       "    </tr>\n",
       "    <tr>\n",
       "      <th>10</th>\n",
       "      <td>0.046325</td>\n",
       "      <td>weight</td>\n",
       "    </tr>\n",
       "    <tr>\n",
       "      <th>9</th>\n",
       "      <td>0.037556</td>\n",
       "      <td>shippingcosts</td>\n",
       "    </tr>\n",
       "    <tr>\n",
       "      <th>18</th>\n",
       "      <td>0.031487</td>\n",
       "      <td>w4</td>\n",
       "    </tr>\n",
       "    <tr>\n",
       "      <th>8</th>\n",
       "      <td>0.023627</td>\n",
       "      <td>entry</td>\n",
       "    </tr>\n",
       "    <tr>\n",
       "      <th>4</th>\n",
       "      <td>0.018281</td>\n",
       "      <td>voucher</td>\n",
       "    </tr>\n",
       "    <tr>\n",
       "      <th>11</th>\n",
       "      <td>0.017346</td>\n",
       "      <td>remi</td>\n",
       "    </tr>\n",
       "    <tr>\n",
       "      <th>3</th>\n",
       "      <td>0.017262</td>\n",
       "      <td>paymenttype_Vec</td>\n",
       "    </tr>\n",
       "    <tr>\n",
       "      <th>16</th>\n",
       "      <td>0.012585</td>\n",
       "      <td>w2</td>\n",
       "    </tr>\n",
       "    <tr>\n",
       "      <th>17</th>\n",
       "      <td>0.011430</td>\n",
       "      <td>w3</td>\n",
       "    </tr>\n",
       "    <tr>\n",
       "      <th>22</th>\n",
       "      <td>0.006477</td>\n",
       "      <td>w8</td>\n",
       "    </tr>\n",
       "    <tr>\n",
       "      <th>15</th>\n",
       "      <td>0.006475</td>\n",
       "      <td>w1</td>\n",
       "    </tr>\n",
       "    <tr>\n",
       "      <th>25</th>\n",
       "      <td>0.004879</td>\n",
       "      <td>books</td>\n",
       "    </tr>\n",
       "    <tr>\n",
       "      <th>26</th>\n",
       "      <td>0.004437</td>\n",
       "      <td>nobooks</td>\n",
       "    </tr>\n",
       "    <tr>\n",
       "      <th>1</th>\n",
       "      <td>0.004137</td>\n",
       "      <td>newsletter</td>\n",
       "    </tr>\n",
       "    <tr>\n",
       "      <th>20</th>\n",
       "      <td>0.003936</td>\n",
       "      <td>w6</td>\n",
       "    </tr>\n",
       "    <tr>\n",
       "      <th>0</th>\n",
       "      <td>0.003407</td>\n",
       "      <td>salutation_Vec</td>\n",
       "    </tr>\n",
       "    <tr>\n",
       "      <th>19</th>\n",
       "      <td>0.003056</td>\n",
       "      <td>w5</td>\n",
       "    </tr>\n",
       "    <tr>\n",
       "      <th>5</th>\n",
       "      <td>0.002262</td>\n",
       "      <td>case</td>\n",
       "    </tr>\n",
       "    <tr>\n",
       "      <th>23</th>\n",
       "      <td>0.002226</td>\n",
       "      <td>w9</td>\n",
       "    </tr>\n",
       "    <tr>\n",
       "      <th>24</th>\n",
       "      <td>0.002085</td>\n",
       "      <td>w10</td>\n",
       "    </tr>\n",
       "    <tr>\n",
       "      <th>21</th>\n",
       "      <td>0.001078</td>\n",
       "      <td>w7</td>\n",
       "    </tr>\n",
       "    <tr>\n",
       "      <th>7</th>\n",
       "      <td>0.001037</td>\n",
       "      <td>gift</td>\n",
       "    </tr>\n",
       "  </tbody>\n",
       "</table>\n",
       "</div>"
      ],
      "text/plain": [
       "    importance          feature\n",
       "14    0.198989               w0\n",
       "2     0.174857        model_Vec\n",
       "12    0.123312           cancel\n",
       "6     0.080726      numberitems\n",
       "13    0.061905             used\n",
       "27    0.054304         itemseff\n",
       "10    0.046325           weight\n",
       "9     0.037556    shippingcosts\n",
       "18    0.031487               w4\n",
       "8     0.023627            entry\n",
       "4     0.018281          voucher\n",
       "11    0.017346             remi\n",
       "3     0.017262  paymenttype_Vec\n",
       "16    0.012585               w2\n",
       "17    0.011430               w3\n",
       "22    0.006477               w8\n",
       "15    0.006475               w1\n",
       "25    0.004879            books\n",
       "26    0.004437          nobooks\n",
       "1     0.004137       newsletter\n",
       "20    0.003936               w6\n",
       "0     0.003407   salutation_Vec\n",
       "19    0.003056               w5\n",
       "5     0.002262             case\n",
       "23    0.002226               w9\n",
       "24    0.002085              w10\n",
       "21    0.001078               w7\n",
       "7     0.001037             gift"
      ]
     },
     "execution_count": 160,
     "metadata": {},
     "output_type": "execute_result"
    }
   ],
   "source": [
    "fi_df"
   ]
  },
  {
   "cell_type": "code",
   "execution_count": 2,
   "metadata": {},
   "outputs": [],
   "source": [
    "import pandas as pd\n",
    "import os\n",
    "import numpy as np\n",
    "import pandas as pd\n",
    "import matplotlib.pyplot as plt\n",
    "import matplotlib.mlab as mlab\n",
    "import seaborn as sns\n",
    "import random"
   ]
  },
  {
   "cell_type": "code",
   "execution_count": 20,
   "metadata": {},
   "outputs": [],
   "source": [
    "def heatMapConfusion(cm,title):\n",
    "    #cm = confusion_matrix(y_test,y_pred,labels=labels)\n",
    "    plt.figure(figsize = (6,6))\n",
    "    sns.heatmap(cm, annot=True,cmap=\"Blues\",xticklabels=[\"0\",\"1\"] , yticklabels=[\"0\",\"1\"],fmt='g')\n",
    "    plt.xlabel(\"Predicted Class\")\n",
    "    plt.ylabel(\"Actual Class\")\n",
    "    plt.title(title)"
   ]
  },
  {
   "cell_type": "markdown",
   "metadata": {},
   "source": [
    "## Data Understanding"
   ]
  },
  {
   "cell_type": "markdown",
   "metadata": {},
   "source": [
    "#### Distribution of ClassLabel\n",
    "- 1) Training Data"
   ]
  },
  {
   "cell_type": "code",
   "execution_count": 58,
   "metadata": {},
   "outputs": [
    {
     "data": {
      "text/plain": [
       "Text(0.5, 1.0, 'Distribution of classlabels in Training Set')"
      ]
     },
     "execution_count": 58,
     "metadata": {},
     "output_type": "execute_result"
    },
    {
     "data": {
      "image/png": "[encoded data removed]",
      "text/plain": [
       "<Figure size 432x288 with 1 Axes>"
      ]
     },
     "metadata": {
      "needs_background": "light"
     },
     "output_type": "display_data"
    }
   ],
   "source": [
    "plt.bar(x=[\"0\",\"1\"], height=[26377/(26377+6051),6051/(26377+6051)], width=0.8)\n",
    "plt.xlabel(\"class\")\n",
    "plt.ylabel(\"frequency\")\n",
    "plt.title(\"Distribution of classlabels in Training Set\")"
   ]
  },
  {
   "cell_type": "markdown",
   "metadata": {},
   "source": [
    "- 2) Test Data"
   ]
  },
  {
   "cell_type": "code",
   "execution_count": 96,
   "metadata": {},
   "outputs": [
    {
     "data": {
      "text/plain": [
       "Text(0.5, 1.0, 'Distribution of classlabels in Test Set')"
      ]
     },
     "execution_count": 96,
     "metadata": {},
     "output_type": "execute_result"
    },
    {
     "data": {
      "image/png": "[encoded data removed]",
      "text/plain": [
       "<Figure size 432x288 with 1 Axes>"
      ]
     },
     "metadata": {
      "needs_background": "light"
     },
     "output_type": "display_data"
    }
   ],
   "source": [
    "plt.bar(x=[\"0\",\"1\"], height=[26259/(26259+6168),6168/(26259+6168)], width=0.8)\n",
    "plt.xlabel(\"class\")\n",
    "plt.ylabel(\"frequency\")\n",
    "plt.title(\"Distribution of classlabels in Test Set\")"
   ]
  },
  {
   "cell_type": "code",
   "execution_count": 90,
   "metadata": {},
   "outputs": [
    {
     "data": {
      "text/plain": [
       "Text(0.5, 1.0, 'Testset')"
      ]
     },
     "execution_count": 90,
     "metadata": {},
     "output_type": "execute_result"
    },
    {
     "data": {
      "image/png": "[encoded data removed]",
      "text/plain": [
       "<Figure size 432x288 with 2 Axes>"
      ]
     },
     "metadata": {
      "needs_background": "light"
     },
     "output_type": "display_data"
    }
   ],
   "source": [
    "fig, (ax1,ax2) = plt.subplots(1, 2)\n",
    "ax1.bar(x=[\"0\",\"1\"], height=[26377/(26377+6051),6051/(26377+6051)], width=0.8)\n",
    "ax1.set_title('Trainingset')\n",
    "ax2.bar(x=[\"0\",\"1\"], height=[26259/(26259+6168),6168/(26259+6168)], width=0.8)\n",
    "ax2.set_title('Testset')\n"
   ]
  },
  {
   "cell_type": "markdown",
   "metadata": {},
   "source": [
    "# Evaluation"
   ]
  },
  {
   "cell_type": "markdown",
   "metadata": {},
   "source": [
    "#### First naive run of decision tree"
   ]
  },
  {
   "cell_type": "markdown",
   "metadata": {},
   "source": [
    "- Base Revenue = 26259 * 1.5 € - 6168 * 5 € = 8548.5 €"
   ]
  },
  {
   "cell_type": "code",
   "execution_count": 142,
   "metadata": {},
   "outputs": [],
   "source": [
    "baseRevenue = 26259 * 1.5  - 6168 * 5"
   ]
  },
  {
   "cell_type": "code",
   "execution_count": 126,
   "metadata": {},
   "outputs": [
    {
     "name": "stdout",
     "output_type": "stream",
     "text": [
      "Base Revenue: 8548.50 €\n",
      "Generated Revenue: 8552.00 €\n",
      "Improvement: 0.04093 %\n",
      "Accuracy: 81.00 %\n"
     ]
    },
    {
     "data": {
      "image/png": "[encoded data removed]",
      "text/plain": [
       "<Figure size 432x432 with 2 Axes>"
      ]
     },
     "metadata": {
      "needs_background": "light"
     },
     "output_type": "display_data"
    }
   ],
   "source": [
    "confMatrix = np.array([[26258,1],\n",
    "                         [6167,1]])\n",
    "revenue = confMatrix[0,0] * 1.5 + confMatrix[1,0] * (-5)\n",
    "heatMapConfusion(confMatrix, \"Confusion Matrix Naive Run\")\n",
    "print(\"Base Revenue: {0:.2f} €\" .format(baseRevenue))\n",
    "print(\"Generated Revenue: {0:.2f} €\" .format(revenue))\n",
    "print(\"Improvement: {0:.5f} %\" .format((1-(baseRevenue)/(float(revenue))) * 100))\n",
    "print(\"Accuracy: {0:.2f} %\" .format(81))"
   ]
  },
  {
   "cell_type": "markdown",
   "metadata": {},
   "source": [
    "- Tree has accuracy of ca. 81 % -> Metric Trap\n",
    "- Tree always predicts class 0. Ca. 81 % of the values in the test set are 0."
   ]
  },
  {
   "cell_type": "markdown",
   "metadata": {},
   "source": [
    "### Solution: Oversampling of minority class"
   ]
  },
  {
   "cell_type": "markdown",
   "metadata": {},
   "source": [
    "#### Distribution after oversampling in train set\n",
    "- 0: 26377 Lables\n",
    "- 1: 26671 Labels\n",
    "- now nearly equally distributed"
   ]
  },
  {
   "cell_type": "code",
   "execution_count": 129,
   "metadata": {},
   "outputs": [
    {
     "data": {
      "text/plain": [
       "Text(0.5, 1.0, 'Distribution of classlabels in Test Set')"
      ]
     },
     "execution_count": 129,
     "metadata": {},
     "output_type": "execute_result"
    },
    {
     "data": {
      "image/png": "[encoded data removed]",
      "text/plain": [
       "<Figure size 432x288 with 1 Axes>"
      ]
     },
     "metadata": {
      "needs_background": "light"
     },
     "output_type": "display_data"
    }
   ],
   "source": [
    "plt.bar(x=[\"0\",\"1\"], height=[26377/(26377+26671),26671/(26377+26671)], width=0.8)\n",
    "plt.xlabel(\"class\")\n",
    "plt.ylabel(\"frequency\")\n",
    "plt.title(\"Distribution of classlabels in Test Set\")"
   ]
  },
  {
   "cell_type": "markdown",
   "metadata": {},
   "source": [
    "#### now nearly equally distributed"
   ]
  },
  {
   "cell_type": "markdown",
   "metadata": {},
   "source": [
    "### Oversampling: Simple Decision Tree with all preprocessed features "
   ]
  },
  {
   "cell_type": "markdown",
   "metadata": {},
   "source": [
    "- maxDepth = 5\n",
    "- Training Model and make predictions: 8.707 sec"
   ]
  },
  {
   "cell_type": "code",
   "execution_count": 138,
   "metadata": {},
   "outputs": [
    {
     "name": "stdout",
     "output_type": "stream",
     "text": [
      "Base Revenue: 8548.50 €\n",
      "Generated Revenue: 11520.00 €\n",
      "Improvement: 25.794 %\n"
     ]
    },
    {
     "data": {
      "image/png": "[encoded data removed]",
      "text/plain": [
       "<Figure size 432x432 with 2 Axes>"
      ]
     },
     "metadata": {
      "needs_background": "light"
     },
     "output_type": "display_data"
    }
   ],
   "source": [
    "confMatrix = np.array([[22750,3509],\n",
    "                         [4521,1647]])\n",
    "revenue = confMatrix[0,0] * 1.5 + confMatrix[1,0] * (-5)\n",
    "heatMapConfusion(confMatrix, \"Confusion Matrix Decision Tree (all Features)\")\n",
    "print(\"Base Revenue: {0:.2f} €\" .format(baseRevenue))\n",
    "print(\"Generated Revenue: {0:.2f} €\" .format(revenue))\n",
    "print(\"Improvement: {0:.3f} %\" .format((1-(baseRevenue)/(float(revenue))) * 100))"
   ]
  },
  {
   "cell_type": "markdown",
   "metadata": {},
   "source": [
    "#### Oversampling: RandomForestClassifier with all preprocessed features "
   ]
  },
  {
   "cell_type": "markdown",
   "metadata": {},
   "source": [
    "- without tuning of hyperparameters\n",
    "- Training Model and make predictions: 8.901 sec"
   ]
  },
  {
   "cell_type": "code",
   "execution_count": 139,
   "metadata": {},
   "outputs": [
    {
     "name": "stdout",
     "output_type": "stream",
     "text": [
      "Base Revenue: 8548.50 €\n",
      "Generated Revenue: 11130.50 €\n",
      "Improvement: 23.198 %\n"
     ]
    },
    {
     "data": {
      "image/png": "[encoded data removed]",
      "text/plain": [
       "<Figure size 432x432 with 2 Axes>"
      ]
     },
     "metadata": {
      "needs_background": "light"
     },
     "output_type": "display_data"
    }
   ],
   "source": [
    "confMatrix = np.array([[23777,2482],\n",
    "                         [4907,1261]])\n",
    "revenue = confMatrix[0,0] * 1.5 + confMatrix[1,0] * (-5)\n",
    "heatMapConfusion(confMatrix, \"Confusion Matrix Random Forest (all Features)\")\n",
    "print(\"Base Revenue: {0:.2f} €\" .format(baseRevenue))\n",
    "print(\"Generated Revenue: {0:.2f} €\" .format(revenue))\n",
    "print(\"Improvement: {0:.3f} %\" .format((1-(baseRevenue)/(float(revenue))) * 100))"
   ]
  }
 ],
 "metadata": {
  "kernelspec": {
   "display_name": "Python 3",
   "language": "python",
   "name": "python3"
  },
  "language_info": {
   "codemirror_mode": {
    "name": "ipython",
    "version": 3
   },
   "file_extension": ".py",
   "mimetype": "text/x-python",
   "name": "python",
   "nbconvert_exporter": "python",
   "pygments_lexer": "ipython3",
   "version": "3.7.5"
  }
 },
 "nbformat": 4,
 "nbformat_minor": 2
}
